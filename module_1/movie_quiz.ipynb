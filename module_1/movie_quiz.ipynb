{
 "cells": [
  {
   "cell_type": "code",
   "execution_count": 1,
   "metadata": {
    "_cell_guid": "b1076dfc-b9ad-4769-8c92-a6c4dae69d19",
    "_uuid": "8f2839f25d086af736a60e9eeb907d3b93b6e0e5",
    "colab": {},
    "colab_type": "code",
    "id": "U2D2gTdJVp90"
   },
   "outputs": [],
   "source": [
    "import numpy as np\n",
    "import pandas as pd\n",
    "import seaborn as sns\n",
    "import matplotlib.pyplot as plt\n",
    "from collections import Counter\n",
    "import re\n",
    "from itertools import combinations"
   ]
  },
  {
   "cell_type": "code",
   "execution_count": 2,
   "metadata": {
    "_cell_guid": "79c7e3d0-c299-4dcb-8224-4455121ee9b0",
    "_uuid": "d629ff2d2480ee46fbb7e2d37f6b5fab8052498a",
    "colab": {},
    "colab_type": "code",
    "id": "oyGfxL3eVp9-"
   },
   "outputs": [
    {
     "data": {
      "text/html": [
       "<div>\n",
       "<style scoped>\n",
       "    .dataframe tbody tr th:only-of-type {\n",
       "        vertical-align: middle;\n",
       "    }\n",
       "\n",
       "    .dataframe tbody tr th {\n",
       "        vertical-align: top;\n",
       "    }\n",
       "\n",
       "    .dataframe thead th {\n",
       "        text-align: right;\n",
       "    }\n",
       "</style>\n",
       "<table border=\"1\" class=\"dataframe\">\n",
       "  <thead>\n",
       "    <tr style=\"text-align: right;\">\n",
       "      <th></th>\n",
       "      <th>imdb_id</th>\n",
       "      <th>budget</th>\n",
       "      <th>revenue</th>\n",
       "      <th>original_title</th>\n",
       "      <th>cast</th>\n",
       "      <th>director</th>\n",
       "      <th>tagline</th>\n",
       "      <th>overview</th>\n",
       "      <th>runtime</th>\n",
       "      <th>genres</th>\n",
       "      <th>production_companies</th>\n",
       "      <th>release_date</th>\n",
       "      <th>vote_average</th>\n",
       "      <th>release_year</th>\n",
       "    </tr>\n",
       "  </thead>\n",
       "  <tbody>\n",
       "    <tr>\n",
       "      <th>1277</th>\n",
       "      <td>tt2058107</td>\n",
       "      <td>18000000</td>\n",
       "      <td>22309223</td>\n",
       "      <td>The Railway Man</td>\n",
       "      <td>Jeremy Irvine|Colin Firth|Stellan SkarsgÃ¥rd|M...</td>\n",
       "      <td>Jonathan Teplitzky</td>\n",
       "      <td>Revenge is never a straight line</td>\n",
       "      <td>A victim from World War II's \"Death Railway\" s...</td>\n",
       "      <td>116</td>\n",
       "      <td>Drama|History</td>\n",
       "      <td>Archer Street Productions|Lionsgate|Pictures i...</td>\n",
       "      <td>12/26/2013</td>\n",
       "      <td>6.6</td>\n",
       "      <td>2013</td>\n",
       "    </tr>\n",
       "    <tr>\n",
       "      <th>1111</th>\n",
       "      <td>tt0327056</td>\n",
       "      <td>25000000</td>\n",
       "      <td>156822020</td>\n",
       "      <td>Mystic River</td>\n",
       "      <td>Sean Penn|Tim Robbins|Kevin Bacon|Marcia Gay H...</td>\n",
       "      <td>Clint Eastwood</td>\n",
       "      <td>We bury our sins, we wash them clean.</td>\n",
       "      <td>A story about friendship and loyalty, guilt an...</td>\n",
       "      <td>138</td>\n",
       "      <td>Thriller|Crime|Drama|Mystery</td>\n",
       "      <td>Village Roadshow Pictures|Malpaso Productions|...</td>\n",
       "      <td>10/7/2003</td>\n",
       "      <td>7.4</td>\n",
       "      <td>2003</td>\n",
       "    </tr>\n",
       "    <tr>\n",
       "      <th>343</th>\n",
       "      <td>tt1220198</td>\n",
       "      <td>10000000</td>\n",
       "      <td>42333295</td>\n",
       "      <td>The Fourth Kind</td>\n",
       "      <td>Milla Jovovich|Will Patton|Hakeem Kae-Kazim|Co...</td>\n",
       "      <td>Olatunde Osunsanmi</td>\n",
       "      <td>There are four kinds of alien encounters. The ...</td>\n",
       "      <td>Since the 1960s, a disproportionate number of ...</td>\n",
       "      <td>98</td>\n",
       "      <td>Science Fiction|Thriller</td>\n",
       "      <td>Universal Pictures|Saga Film|Focus Films|Gold ...</td>\n",
       "      <td>11/6/2009</td>\n",
       "      <td>5.6</td>\n",
       "      <td>2009</td>\n",
       "    </tr>\n",
       "    <tr>\n",
       "      <th>431</th>\n",
       "      <td>tt1231583</td>\n",
       "      <td>65000000</td>\n",
       "      <td>211780824</td>\n",
       "      <td>Due Date</td>\n",
       "      <td>Zach Galifianakis|Robert Downey Jr.|Michelle M...</td>\n",
       "      <td>Todd Phillips</td>\n",
       "      <td>Leave Your Comfort Zone</td>\n",
       "      <td>Peter Highman must scramble across the US in f...</td>\n",
       "      <td>95</td>\n",
       "      <td>Comedy|Drama</td>\n",
       "      <td>Legendary Pictures|Green Hat Films|Warner Bros.</td>\n",
       "      <td>11/4/2010</td>\n",
       "      <td>6.2</td>\n",
       "      <td>2010</td>\n",
       "    </tr>\n",
       "    <tr>\n",
       "      <th>866</th>\n",
       "      <td>tt0258463</td>\n",
       "      <td>60000000</td>\n",
       "      <td>214034224</td>\n",
       "      <td>The Bourne Identity</td>\n",
       "      <td>Matt Damon|Franka Potente|Chris Cooper|Clive O...</td>\n",
       "      <td>Doug Liman</td>\n",
       "      <td>He was the perfect weapon until he became the ...</td>\n",
       "      <td>Wounded to the brink of death and suffering fr...</td>\n",
       "      <td>119</td>\n",
       "      <td>Action|Drama|Mystery|Thriller</td>\n",
       "      <td>Universal Pictures|Kennedy/Marshall Company, T...</td>\n",
       "      <td>6/14/2002</td>\n",
       "      <td>7.1</td>\n",
       "      <td>2002</td>\n",
       "    </tr>\n",
       "  </tbody>\n",
       "</table>\n",
       "</div>"
      ],
      "text/plain": [
       "        imdb_id    budget    revenue       original_title  \\\n",
       "1277  tt2058107  18000000   22309223      The Railway Man   \n",
       "1111  tt0327056  25000000  156822020         Mystic River   \n",
       "343   tt1220198  10000000   42333295      The Fourth Kind   \n",
       "431   tt1231583  65000000  211780824             Due Date   \n",
       "866   tt0258463  60000000  214034224  The Bourne Identity   \n",
       "\n",
       "                                                   cast            director  \\\n",
       "1277  Jeremy Irvine|Colin Firth|Stellan SkarsgÃ¥rd|M...  Jonathan Teplitzky   \n",
       "1111  Sean Penn|Tim Robbins|Kevin Bacon|Marcia Gay H...      Clint Eastwood   \n",
       "343   Milla Jovovich|Will Patton|Hakeem Kae-Kazim|Co...  Olatunde Osunsanmi   \n",
       "431   Zach Galifianakis|Robert Downey Jr.|Michelle M...       Todd Phillips   \n",
       "866   Matt Damon|Franka Potente|Chris Cooper|Clive O...          Doug Liman   \n",
       "\n",
       "                                                tagline  \\\n",
       "1277                   Revenge is never a straight line   \n",
       "1111              We bury our sins, we wash them clean.   \n",
       "343   There are four kinds of alien encounters. The ...   \n",
       "431                             Leave Your Comfort Zone   \n",
       "866   He was the perfect weapon until he became the ...   \n",
       "\n",
       "                                               overview  runtime  \\\n",
       "1277  A victim from World War II's \"Death Railway\" s...      116   \n",
       "1111  A story about friendship and loyalty, guilt an...      138   \n",
       "343   Since the 1960s, a disproportionate number of ...       98   \n",
       "431   Peter Highman must scramble across the US in f...       95   \n",
       "866   Wounded to the brink of death and suffering fr...      119   \n",
       "\n",
       "                             genres  \\\n",
       "1277                  Drama|History   \n",
       "1111   Thriller|Crime|Drama|Mystery   \n",
       "343        Science Fiction|Thriller   \n",
       "431                    Comedy|Drama   \n",
       "866   Action|Drama|Mystery|Thriller   \n",
       "\n",
       "                                   production_companies release_date  \\\n",
       "1277  Archer Street Productions|Lionsgate|Pictures i...   12/26/2013   \n",
       "1111  Village Roadshow Pictures|Malpaso Productions|...    10/7/2003   \n",
       "343   Universal Pictures|Saga Film|Focus Films|Gold ...    11/6/2009   \n",
       "431     Legendary Pictures|Green Hat Films|Warner Bros.    11/4/2010   \n",
       "866   Universal Pictures|Kennedy/Marshall Company, T...    6/14/2002   \n",
       "\n",
       "      vote_average  release_year  \n",
       "1277           6.6          2013  \n",
       "1111           7.4          2003  \n",
       "343            5.6          2009  \n",
       "431            6.2          2010  \n",
       "866            7.1          2002  "
      ]
     },
     "execution_count": 2,
     "metadata": {},
     "output_type": "execute_result"
    }
   ],
   "source": [
    "data = pd.read_csv('movie_bd_v5.csv')\n",
    "data.sample(5)"
   ]
  },
  {
   "cell_type": "code",
   "execution_count": 3,
   "metadata": {
    "colab": {},
    "colab_type": "code",
    "id": "CoYUnagMVp-C"
   },
   "outputs": [
    {
     "data": {
      "text/html": [
       "<div>\n",
       "<style scoped>\n",
       "    .dataframe tbody tr th:only-of-type {\n",
       "        vertical-align: middle;\n",
       "    }\n",
       "\n",
       "    .dataframe tbody tr th {\n",
       "        vertical-align: top;\n",
       "    }\n",
       "\n",
       "    .dataframe thead th {\n",
       "        text-align: right;\n",
       "    }\n",
       "</style>\n",
       "<table border=\"1\" class=\"dataframe\">\n",
       "  <thead>\n",
       "    <tr style=\"text-align: right;\">\n",
       "      <th></th>\n",
       "      <th>budget</th>\n",
       "      <th>revenue</th>\n",
       "      <th>runtime</th>\n",
       "      <th>vote_average</th>\n",
       "      <th>release_year</th>\n",
       "    </tr>\n",
       "  </thead>\n",
       "  <tbody>\n",
       "    <tr>\n",
       "      <th>count</th>\n",
       "      <td>1.889000e+03</td>\n",
       "      <td>1.889000e+03</td>\n",
       "      <td>1889.000000</td>\n",
       "      <td>1889.000000</td>\n",
       "      <td>1889.000000</td>\n",
       "    </tr>\n",
       "    <tr>\n",
       "      <th>mean</th>\n",
       "      <td>5.431083e+07</td>\n",
       "      <td>1.553653e+08</td>\n",
       "      <td>109.658549</td>\n",
       "      <td>6.140762</td>\n",
       "      <td>2007.860773</td>\n",
       "    </tr>\n",
       "    <tr>\n",
       "      <th>std</th>\n",
       "      <td>4.858721e+07</td>\n",
       "      <td>2.146698e+08</td>\n",
       "      <td>18.017041</td>\n",
       "      <td>0.764763</td>\n",
       "      <td>4.468841</td>\n",
       "    </tr>\n",
       "    <tr>\n",
       "      <th>min</th>\n",
       "      <td>5.000000e+06</td>\n",
       "      <td>2.033165e+06</td>\n",
       "      <td>63.000000</td>\n",
       "      <td>3.300000</td>\n",
       "      <td>2000.000000</td>\n",
       "    </tr>\n",
       "    <tr>\n",
       "      <th>25%</th>\n",
       "      <td>2.000000e+07</td>\n",
       "      <td>3.456058e+07</td>\n",
       "      <td>97.000000</td>\n",
       "      <td>5.600000</td>\n",
       "      <td>2004.000000</td>\n",
       "    </tr>\n",
       "    <tr>\n",
       "      <th>50%</th>\n",
       "      <td>3.800000e+07</td>\n",
       "      <td>8.361541e+07</td>\n",
       "      <td>107.000000</td>\n",
       "      <td>6.100000</td>\n",
       "      <td>2008.000000</td>\n",
       "    </tr>\n",
       "    <tr>\n",
       "      <th>75%</th>\n",
       "      <td>7.200000e+07</td>\n",
       "      <td>1.782626e+08</td>\n",
       "      <td>120.000000</td>\n",
       "      <td>6.600000</td>\n",
       "      <td>2012.000000</td>\n",
       "    </tr>\n",
       "    <tr>\n",
       "      <th>max</th>\n",
       "      <td>3.800000e+08</td>\n",
       "      <td>2.781506e+09</td>\n",
       "      <td>214.000000</td>\n",
       "      <td>8.100000</td>\n",
       "      <td>2015.000000</td>\n",
       "    </tr>\n",
       "  </tbody>\n",
       "</table>\n",
       "</div>"
      ],
      "text/plain": [
       "             budget       revenue      runtime  vote_average  release_year\n",
       "count  1.889000e+03  1.889000e+03  1889.000000   1889.000000   1889.000000\n",
       "mean   5.431083e+07  1.553653e+08   109.658549      6.140762   2007.860773\n",
       "std    4.858721e+07  2.146698e+08    18.017041      0.764763      4.468841\n",
       "min    5.000000e+06  2.033165e+06    63.000000      3.300000   2000.000000\n",
       "25%    2.000000e+07  3.456058e+07    97.000000      5.600000   2004.000000\n",
       "50%    3.800000e+07  8.361541e+07   107.000000      6.100000   2008.000000\n",
       "75%    7.200000e+07  1.782626e+08   120.000000      6.600000   2012.000000\n",
       "max    3.800000e+08  2.781506e+09   214.000000      8.100000   2015.000000"
      ]
     },
     "execution_count": 3,
     "metadata": {},
     "output_type": "execute_result"
    }
   ],
   "source": [
    "data.describe()"
   ]
  },
  {
   "cell_type": "markdown",
   "metadata": {
    "colab_type": "text",
    "id": "DTIt7ezGVp-G"
   },
   "source": [
    "# Предобработка"
   ]
  },
  {
   "cell_type": "code",
   "execution_count": 4,
   "metadata": {
    "colab": {},
    "colab_type": "code",
    "id": "jNb40DwKVp-H"
   },
   "outputs": [],
   "source": [
    "answers = {} # создадим словарь для ответов\n",
    "\n",
    "# тут другие ваши предобработки колонок например:\n",
    "\n",
    "# the time given in the dataset is in string format.\n",
    "# So we need to change this in datetime format\n",
    "data.release_date = pd.to_datetime(data.release_date)\n",
    "\n",
    "# create custom profit column\n",
    "data['profit'] = data.revenue - data.budget\n",
    "\n",
    "# add seconds columns that contain splitted data of original columns\n",
    "# it allows applying .explode function\n",
    "listed_columns = ['cast', 'director', 'genres', 'production_companies']\n",
    "for column in listed_columns:\n",
    "    data[column + '_list'] = data[column].str.split('|')"
   ]
  },
  {
   "cell_type": "markdown",
   "metadata": {
    "colab_type": "text",
    "id": "YxZaH-nPVp-L"
   },
   "source": [
    "# 1. У какого фильма из списка самый большой бюджет?"
   ]
  },
  {
   "cell_type": "code",
   "execution_count": 5,
   "metadata": {
    "colab": {},
    "colab_type": "code",
    "id": "dZwb3m28Vp-S"
   },
   "outputs": [
    {
     "name": "stdout",
     "output_type": "stream",
     "text": [
      "Pirates of the Caribbean: On Stranger Tides (tt1298650)\n"
     ]
    }
   ],
   "source": [
    "movie = data.sort_values('budget', ascending=False).iloc[0]\n",
    "\n",
    "movie_title = movie['original_title']\n",
    "movie_id = movie['imdb_id']\n",
    "answers['1'] = '{} ({})'.format(movie_title, movie_id)\n",
    "print(answers['1'])"
   ]
  },
  {
   "cell_type": "markdown",
   "metadata": {
    "colab_type": "text",
    "id": "K7L3nbRXVp-X"
   },
   "source": [
    "ВАРИАНТ 2"
   ]
  },
  {
   "cell_type": "code",
   "execution_count": 6,
   "metadata": {
    "colab": {},
    "colab_type": "code",
    "id": "OGaoQI7rVp-X"
   },
   "outputs": [
    {
     "name": "stdout",
     "output_type": "stream",
     "text": [
      "Pirates of the Caribbean: On Stranger Tides (tt1298650)\n"
     ]
    }
   ],
   "source": [
    "movie = data.loc[data.budget.idxmax()]\n",
    "\n",
    "movie_title = movie.original_title\n",
    "movie_id = movie.imdb_id\n",
    "answers['1'] = '{} ({})'.format(movie_title, movie_id)\n",
    "print(answers['1'])"
   ]
  },
  {
   "cell_type": "markdown",
   "metadata": {
    "colab_type": "text",
    "id": "FNRbbI3vVp-c"
   },
   "source": [
    "# 2. Какой из фильмов самый длительный (в минутах)?"
   ]
  },
  {
   "cell_type": "code",
   "execution_count": 7,
   "metadata": {
    "colab": {},
    "colab_type": "code",
    "id": "vHAoEXNTVp-d"
   },
   "outputs": [
    {
     "name": "stdout",
     "output_type": "stream",
     "text": [
      "Gods and Generals (tt0279111)\n"
     ]
    }
   ],
   "source": [
    "movie = data.loc[data.runtime.idxmax()]\n",
    "\n",
    "movie_title = movie.original_title\n",
    "movie_id = movie.imdb_id\n",
    "answers['2'] = '{} ({})'.format(movie_title, movie_id)\n",
    "print(answers['2'])"
   ]
  },
  {
   "cell_type": "markdown",
   "metadata": {
    "colab_type": "text",
    "id": "bapLlpW8Vp-k"
   },
   "source": [
    "# 3. Какой из фильмов самый короткий (в минутах)?\n",
    "\n",
    "\n",
    "\n"
   ]
  },
  {
   "cell_type": "code",
   "execution_count": 8,
   "metadata": {
    "colab": {},
    "colab_type": "code",
    "id": "YBxaSHuAVp-l"
   },
   "outputs": [
    {
     "name": "stdout",
     "output_type": "stream",
     "text": [
      "Winnie the Pooh (tt1449283)\n"
     ]
    }
   ],
   "source": [
    "movie = data.loc[data.runtime.idxmin()]\n",
    "\n",
    "movie_title = movie.original_title\n",
    "movie_id = movie.imdb_id\n",
    "answers['3'] = '{} ({})'.format(movie_title, movie_id)\n",
    "print(answers['3'])"
   ]
  },
  {
   "cell_type": "markdown",
   "metadata": {
    "colab_type": "text",
    "id": "TfQbxbfNVp-p"
   },
   "source": [
    "# 4. Какова средняя длительность фильмов?\n"
   ]
  },
  {
   "cell_type": "code",
   "execution_count": 9,
   "metadata": {
    "colab": {},
    "colab_type": "code",
    "id": "5K6dKZYVVp-q"
   },
   "outputs": [
    {
     "name": "stdout",
     "output_type": "stream",
     "text": [
      "110\n"
     ]
    }
   ],
   "source": [
    "movie_mean = data.runtime.mean()\n",
    "\n",
    "answers['4'] = '{:.0f}'.format(movie_mean)\n",
    "print(answers['4'])"
   ]
  },
  {
   "cell_type": "markdown",
   "metadata": {
    "colab_type": "text",
    "id": "r5TvbnT_Vp-u"
   },
   "source": [
    "# 5. Каково медианное значение длительности фильмов? "
   ]
  },
  {
   "cell_type": "code",
   "execution_count": 10,
   "metadata": {
    "colab": {},
    "colab_type": "code",
    "id": "iBROplKnVp-v"
   },
   "outputs": [
    {
     "name": "stdout",
     "output_type": "stream",
     "text": [
      "107\n"
     ]
    }
   ],
   "source": [
    "movie_median = data.runtime.median()\n",
    "\n",
    "answers['5'] = int(movie_median)\n",
    "print(answers['5'])"
   ]
  },
  {
   "cell_type": "markdown",
   "metadata": {
    "colab_type": "text",
    "id": "39P-deDSVp-y"
   },
   "source": [
    "# 6. Какой самый прибыльный фильм?"
   ]
  },
  {
   "cell_type": "code",
   "execution_count": 11,
   "metadata": {
    "colab": {},
    "colab_type": "code",
    "id": "UYZh4T9WVp-y"
   },
   "outputs": [
    {
     "name": "stdout",
     "output_type": "stream",
     "text": [
      "Avatar (tt0499549)\n"
     ]
    }
   ],
   "source": [
    "movie = data.loc[data.profit.idxmax()]\n",
    "\n",
    "movie_title = movie.original_title\n",
    "movie_id = movie.imdb_id\n",
    "answers['6'] = '{} ({})'.format(movie_title, movie_id)\n",
    "print(answers['6'])"
   ]
  },
  {
   "cell_type": "markdown",
   "metadata": {
    "colab_type": "text",
    "id": "M99JmIX4Vp-2"
   },
   "source": [
    "# 7. Какой фильм самый убыточный? "
   ]
  },
  {
   "cell_type": "code",
   "execution_count": 12,
   "metadata": {
    "colab": {},
    "colab_type": "code",
    "id": "w-D2m4XPVp-3"
   },
   "outputs": [
    {
     "name": "stdout",
     "output_type": "stream",
     "text": [
      "The Lone Ranger (tt1210819)\n"
     ]
    }
   ],
   "source": [
    "movie = data.loc[data.profit.idxmin()]\n",
    "\n",
    "movie_title = movie.original_title\n",
    "movie_id = movie.imdb_id\n",
    "answers['7'] = '{} ({})'.format(movie_title, movie_id)\n",
    "print(answers['7'])"
   ]
  },
  {
   "cell_type": "markdown",
   "metadata": {
    "colab_type": "text",
    "id": "wEOM5ERVVp-6"
   },
   "source": [
    "# 8. У скольких фильмов из датасета объем сборов оказался выше бюджета?"
   ]
  },
  {
   "cell_type": "code",
   "execution_count": 13,
   "metadata": {
    "colab": {},
    "colab_type": "code",
    "id": "y00_7HD6Vp-7"
   },
   "outputs": [
    {
     "name": "stdout",
     "output_type": "stream",
     "text": [
      "1478\n"
     ]
    }
   ],
   "source": [
    "positive_profit_movies = data[data.profit > 0]\n",
    "\n",
    "answers['8'] = len(positive_profit_movies)\n",
    "print(answers['8'])"
   ]
  },
  {
   "cell_type": "markdown",
   "metadata": {
    "colab_type": "text",
    "id": "xhpspA9KVp_A"
   },
   "source": [
    "# 9. Какой фильм оказался самым кассовым в 2008 году?"
   ]
  },
  {
   "cell_type": "code",
   "execution_count": 14,
   "metadata": {
    "colab": {},
    "colab_type": "code",
    "id": "MoUyQr9RVp_B"
   },
   "outputs": [
    {
     "name": "stdout",
     "output_type": "stream",
     "text": [
      "The Dark Knight (tt0468569)\n"
     ]
    }
   ],
   "source": [
    "movies = data[data.release_year == 2008]\n",
    "movie = movies.loc[movies.profit.idxmax()]\n",
    "\n",
    "movie_title = movie.original_title\n",
    "movie_id = movie.imdb_id\n",
    "answers['9'] = '{} ({})'.format(movie_title, movie_id)\n",
    "print(answers['9'])"
   ]
  },
  {
   "cell_type": "markdown",
   "metadata": {
    "colab_type": "text",
    "id": "Zi4hDKidVp_F"
   },
   "source": [
    "# 10. Самый убыточный фильм за период с 2012 по 2014 г. (включительно)?\n"
   ]
  },
  {
   "cell_type": "code",
   "execution_count": 15,
   "metadata": {
    "colab": {},
    "colab_type": "code",
    "id": "XqyRmufJVp_F"
   },
   "outputs": [
    {
     "name": "stdout",
     "output_type": "stream",
     "text": [
      "The Lone Ranger (tt1210819)\n"
     ]
    }
   ],
   "source": [
    "movies = data[(data.release_year >= 2012) & (data.release_year <= 2014)]\n",
    "movie = movies.loc[movies.profit.idxmin()]\n",
    "\n",
    "movie_title = movie.original_title\n",
    "movie_id = movie.imdb_id\n",
    "answers['10'] = '{} ({})'.format(movie_title, movie_id)\n",
    "print(answers['10'])"
   ]
  },
  {
   "cell_type": "markdown",
   "metadata": {
    "colab_type": "text",
    "id": "EA7Sa9dkVp_I"
   },
   "source": [
    "# 11. Какого жанра фильмов больше всего?"
   ]
  },
  {
   "cell_type": "code",
   "execution_count": 16,
   "metadata": {
    "colab": {},
    "colab_type": "code",
    "id": "zsJAwJ8QVp_J"
   },
   "outputs": [
    {
     "name": "stdout",
     "output_type": "stream",
     "text": [
      "Drama\n"
     ]
    }
   ],
   "source": [
    "genres = data.genres_list.apply(pd.Series).stack().unique()\n",
    "\n",
    "counter = Counter()\n",
    "for genre in genres:\n",
    "    counter[genre] = len(data[data.genres.str.contains(genre)])\n",
    "            \n",
    "result = counter.most_common(1)[0][0]\n",
    "\n",
    "answers['11'] = result\n",
    "print(answers['11'])"
   ]
  },
  {
   "cell_type": "markdown",
   "metadata": {
    "colab_type": "text",
    "id": "Ax6g2C8SVp_M"
   },
   "source": [
    "ВАРИАНТ 2"
   ]
  },
  {
   "cell_type": "code",
   "execution_count": 17,
   "metadata": {
    "colab": {},
    "colab_type": "code",
    "id": "otO3SbrSVp_N"
   },
   "outputs": [
    {
     "name": "stdout",
     "output_type": "stream",
     "text": [
      "Drama\n"
     ]
    }
   ],
   "source": [
    "result = data.explode('genres_list') \\\n",
    "    .groupby('genres_list') \\\n",
    "    .imdb_id \\\n",
    "    .count()\n",
    "\n",
    "answers['11'] = result.idxmax()\n",
    "print(answers['11'])"
   ]
  },
  {
   "cell_type": "markdown",
   "metadata": {
    "colab_type": "text",
    "id": "T9_bPWpkVp_Q"
   },
   "source": [
    "# 12. Фильмы какого жанра чаще всего становятся прибыльными? "
   ]
  },
  {
   "cell_type": "code",
   "execution_count": 18,
   "metadata": {
    "colab": {},
    "colab_type": "code",
    "id": "Tmt8MaK1Vp_R"
   },
   "outputs": [
    {
     "name": "stdout",
     "output_type": "stream",
     "text": [
      "Drama\n"
     ]
    }
   ],
   "source": [
    "result = data.explode('genres_list') \\\n",
    "    .groupby('genres_list') \\\n",
    "    .profit \\\n",
    "    .count()\n",
    "\n",
    "answers['12'] = result.idxmax()\n",
    "print(answers['12'])"
   ]
  },
  {
   "cell_type": "markdown",
   "metadata": {
    "colab_type": "text",
    "id": "0F23bgsDVp_U"
   },
   "source": [
    "# 13. У какого режиссера самые большие суммарные кассовые сборы?"
   ]
  },
  {
   "cell_type": "code",
   "execution_count": 19,
   "metadata": {},
   "outputs": [
    {
     "name": "stdout",
     "output_type": "stream",
     "text": [
      "Peter Jackson\n"
     ]
    }
   ],
   "source": [
    "result = data.explode('director_list') \\\n",
    "    .groupby('director_list') \\\n",
    "    .profit \\\n",
    "    .sum()\n",
    "\n",
    "answers['13'] = result.idxmax()\n",
    "print(answers['13'])"
   ]
  },
  {
   "cell_type": "markdown",
   "metadata": {
    "colab_type": "text",
    "id": "PsYC9FgRVp_a"
   },
   "source": [
    "# 14. Какой режисер снял больше всего фильмов в стиле Action?"
   ]
  },
  {
   "cell_type": "code",
   "execution_count": 20,
   "metadata": {},
   "outputs": [
    {
     "name": "stdout",
     "output_type": "stream",
     "text": [
      "Robert Rodriguez\n"
     ]
    }
   ],
   "source": [
    "result = data[data.genres.str.contains('Action')] \\\n",
    "    .explode('director_list') \\\n",
    "    .groupby('director_list') \\\n",
    "    .imdb_id \\\n",
    "    .count()\n",
    "\n",
    "answers['14'] = result.idxmax()\n",
    "print(answers['14'])"
   ]
  },
  {
   "cell_type": "markdown",
   "metadata": {
    "colab_type": "text",
    "id": "PQ0KciD7Vp_f"
   },
   "source": [
    "# 15. Фильмы с каким актером принесли самые высокие кассовые сборы в 2012 году? "
   ]
  },
  {
   "cell_type": "code",
   "execution_count": 21,
   "metadata": {},
   "outputs": [
    {
     "name": "stdout",
     "output_type": "stream",
     "text": [
      "Chris Hemsworth\n"
     ]
    }
   ],
   "source": [
    "result = data[data.release_date.dt.year == 2012] \\\n",
    "    .explode('cast_list') \\\n",
    "    .groupby('cast_list') \\\n",
    "    .profit \\\n",
    "    .sum()\n",
    "\n",
    "answers['15'] = result.idxmax()\n",
    "print(answers['15'])"
   ]
  },
  {
   "cell_type": "markdown",
   "metadata": {
    "colab_type": "text",
    "id": "mWHyyL7QVp_j"
   },
   "source": [
    "# 16. Какой актер снялся в большем количестве высокобюджетных фильмов?"
   ]
  },
  {
   "cell_type": "code",
   "execution_count": 22,
   "metadata": {},
   "outputs": [
    {
     "name": "stdout",
     "output_type": "stream",
     "text": [
      "Matt Damon\n"
     ]
    }
   ],
   "source": [
    "result = data[data.budget > data.budget.mean()] \\\n",
    "    .explode('cast_list') \\\n",
    "    .groupby('cast_list') \\\n",
    "    .imdb_id \\\n",
    "    .count()\n",
    "\n",
    "answers['16'] = result.idxmax()\n",
    "print(answers['16'])"
   ]
  },
  {
   "cell_type": "markdown",
   "metadata": {
    "colab_type": "text",
    "id": "NIh6AaW5Vp_n"
   },
   "source": [
    "# 17. В фильмах какого жанра больше всего снимался Nicolas Cage? "
   ]
  },
  {
   "cell_type": "code",
   "execution_count": 23,
   "metadata": {},
   "outputs": [
    {
     "name": "stdout",
     "output_type": "stream",
     "text": [
      "Action\n"
     ]
    }
   ],
   "source": [
    "result = data[data.cast.str.contains('Nicolas Cage')] \\\n",
    "    .explode('genres_list') \\\n",
    "    .groupby('genres_list') \\\n",
    "    .imdb_id \\\n",
    "    .count()\n",
    "\n",
    "answers['17'] = result.idxmax()\n",
    "print(answers['17'])"
   ]
  },
  {
   "cell_type": "markdown",
   "metadata": {
    "colab_type": "text",
    "id": "RqOmPRfWVp_q"
   },
   "source": [
    "# 18. Самый убыточный фильм от Paramount Pictures"
   ]
  },
  {
   "cell_type": "code",
   "execution_count": 24,
   "metadata": {
    "colab": {},
    "colab_type": "code",
    "id": "9E_B0Y96Vp_r"
   },
   "outputs": [
    {
     "name": "stdout",
     "output_type": "stream",
     "text": [
      "K-19: The Widowmaker (tt0267626)\n"
     ]
    }
   ],
   "source": [
    "company = 'Paramount Pictures'\n",
    "\n",
    "result = data[data.production_companies.str.contains(company)]\n",
    "result = result[result.profit == result.profit.min()]\n",
    "\n",
    "movie = result.iloc[0]\n",
    "movie_title = movie.original_title\n",
    "movie_id = movie.imdb_id\n",
    "\n",
    "answers['18'] = '{} ({})'.format(movie_title, movie_id)\n",
    "print(answers['18'])"
   ]
  },
  {
   "cell_type": "markdown",
   "metadata": {
    "colab_type": "text",
    "id": "vS8Ur6ddVp_u"
   },
   "source": [
    "# 19. Какой год стал самым успешным по суммарным кассовым сборам?"
   ]
  },
  {
   "cell_type": "code",
   "execution_count": 25,
   "metadata": {
    "colab": {},
    "colab_type": "code",
    "id": "Dnbt4GdIVp_v"
   },
   "outputs": [
    {
     "name": "stdout",
     "output_type": "stream",
     "text": [
      "2015\n"
     ]
    }
   ],
   "source": [
    "result = data.groupby(data.release_date.dt.year).profit.sum()\n",
    "\n",
    "answers['19'] = result.idxmax()\n",
    "print(answers['19'])"
   ]
  },
  {
   "cell_type": "markdown",
   "metadata": {
    "colab_type": "text",
    "id": "JAzJh4QAVp_z"
   },
   "source": [
    "# 20. Какой самый прибыльный год для студии Warner Bros?"
   ]
  },
  {
   "cell_type": "code",
   "execution_count": 26,
   "metadata": {
    "colab": {},
    "colab_type": "code",
    "id": "wgVu02DEVp_0"
   },
   "outputs": [
    {
     "name": "stdout",
     "output_type": "stream",
     "text": [
      "2014\n"
     ]
    }
   ],
   "source": [
    "company = 'Warner Bros'\n",
    "result = data[data.production_companies.str.contains(company)]\n",
    "result = result.groupby(data.release_date.dt.year).profit.sum()\n",
    "\n",
    "answers['20'] = result.idxmax()\n",
    "print(answers['20'])"
   ]
  },
  {
   "cell_type": "markdown",
   "metadata": {
    "colab_type": "text",
    "id": "8Im1S2HRVp_4"
   },
   "source": [
    "# 21. В каком месяце за все годы суммарно вышло больше всего фильмов?"
   ]
  },
  {
   "cell_type": "code",
   "execution_count": 27,
   "metadata": {
    "colab": {},
    "colab_type": "code",
    "id": "lev6TH7gVp_4"
   },
   "outputs": [
    {
     "name": "stdout",
     "output_type": "stream",
     "text": [
      "September\n"
     ]
    }
   ],
   "source": [
    "month_group = data.groupby(data.release_date.dt.month_name())\n",
    "month = month_group.imdb_id.count().idxmax()\n",
    "\n",
    "answers['21'] = month\n",
    "print(answers['21'])"
   ]
  },
  {
   "cell_type": "markdown",
   "metadata": {
    "colab_type": "text",
    "id": "uAJsZ_NeVp_7"
   },
   "source": [
    "# 22. Сколько суммарно вышло фильмов летом? (за июнь, июль, август)"
   ]
  },
  {
   "cell_type": "code",
   "execution_count": 28,
   "metadata": {
    "colab": {},
    "colab_type": "code",
    "id": "Aa-hEREoVp_8"
   },
   "outputs": [
    {
     "name": "stdout",
     "output_type": "stream",
     "text": [
      "450\n"
     ]
    }
   ],
   "source": [
    "month = data.release_date.dt.month\n",
    "summer_filter = (month >=6) & (month <=8)\n",
    "\n",
    "movie_count = len(data[summer_filter].imdb_id)\n",
    "\n",
    "answers['22'] = movie_count\n",
    "print(answers['22'])"
   ]
  },
  {
   "cell_type": "markdown",
   "metadata": {
    "colab_type": "text",
    "id": "G94ppOY1VqAA"
   },
   "source": [
    "# 23. Для какого режиссера зима – самое продуктивное время года? "
   ]
  },
  {
   "cell_type": "code",
   "execution_count": 29,
   "metadata": {
    "colab": {},
    "colab_type": "code",
    "id": "RhNTsamuVqAB"
   },
   "outputs": [
    {
     "name": "stdout",
     "output_type": "stream",
     "text": [
      "Peter Jackson\n"
     ]
    }
   ],
   "source": [
    "month = data.release_date.dt.month\n",
    "result = data[(month == 12) | (month <= 2)] \\\n",
    "    .explode('director_list') \\\n",
    "    .groupby('director_list') \\\n",
    "    .imdb_id \\\n",
    "    .count()\n",
    "\n",
    "answers['23'] = result.idxmax()\n",
    "print(answers['23'])"
   ]
  },
  {
   "cell_type": "markdown",
   "metadata": {
    "colab_type": "text",
    "id": "RBo0JVjVVqAF"
   },
   "source": [
    "# 24. Какая студия дает самые длинные названия своим фильмам по количеству символов?"
   ]
  },
  {
   "cell_type": "code",
   "execution_count": 30,
   "metadata": {
    "colab": {},
    "colab_type": "code",
    "id": "QRGS8L0iVqAG"
   },
   "outputs": [
    {
     "name": "stdout",
     "output_type": "stream",
     "text": [
      "Four By Two Productions\n"
     ]
    }
   ],
   "source": [
    "data['original_title_len'] = data.original_title.str.len()\n",
    "result = data \\\n",
    "    .explode('production_companies_list') \\\n",
    "    .groupby('production_companies_list') \\\n",
    "    .original_title_len \\\n",
    "    .mean()\n",
    "\n",
    "answers['24'] = result.idxmax()\n",
    "print(answers['24'])"
   ]
  },
  {
   "cell_type": "markdown",
   "metadata": {
    "colab_type": "text",
    "id": "9G0hbvR7VqAK"
   },
   "source": [
    "# 25. Описание фильмов какой студии в среднем самые длинные по количеству слов?"
   ]
  },
  {
   "cell_type": "code",
   "execution_count": 31,
   "metadata": {
    "colab": {},
    "colab_type": "code",
    "id": "Ge2GsLNxVqAK"
   },
   "outputs": [
    {
     "name": "stdout",
     "output_type": "stream",
     "text": [
      "Midnight Picture Show\n"
     ]
    }
   ],
   "source": [
    "count_words = lambda x: len(re.findall('\\w+', x))\n",
    "data['overview_words_count'] = data.overview.apply(count_words)\n",
    "\n",
    "result = data \\\n",
    "    .explode('production_companies_list') \\\n",
    "    .groupby('production_companies_list') \\\n",
    "    .overview_words_count \\\n",
    "    .mean()\n",
    "\n",
    "answers['25'] = result.idxmax()\n",
    "print(answers['25'])"
   ]
  },
  {
   "cell_type": "markdown",
   "metadata": {
    "colab_type": "text",
    "id": "FJ1AFt90VqAP"
   },
   "source": [
    "# 26. Какие фильмы входят в 1 процент лучших по рейтингу? \n",
    "по vote_average"
   ]
  },
  {
   "cell_type": "code",
   "execution_count": 32,
   "metadata": {
    "colab": {},
    "colab_type": "code",
    "id": "8qmJVq4CVqAQ"
   },
   "outputs": [
    {
     "data": {
      "text/html": [
       "<div>\n",
       "<style scoped>\n",
       "    .dataframe tbody tr th:only-of-type {\n",
       "        vertical-align: middle;\n",
       "    }\n",
       "\n",
       "    .dataframe tbody tr th {\n",
       "        vertical-align: top;\n",
       "    }\n",
       "\n",
       "    .dataframe thead th {\n",
       "        text-align: right;\n",
       "    }\n",
       "</style>\n",
       "<table border=\"1\" class=\"dataframe\">\n",
       "  <thead>\n",
       "    <tr style=\"text-align: right;\">\n",
       "      <th></th>\n",
       "      <th>original_title</th>\n",
       "      <th>vote_average</th>\n",
       "    </tr>\n",
       "  </thead>\n",
       "  <tbody>\n",
       "    <tr>\n",
       "      <th>599</th>\n",
       "      <td>The Dark Knight</td>\n",
       "      <td>8.1</td>\n",
       "    </tr>\n",
       "    <tr>\n",
       "      <th>9</th>\n",
       "      <td>Inside Out</td>\n",
       "      <td>8.0</td>\n",
       "    </tr>\n",
       "    <tr>\n",
       "      <th>34</th>\n",
       "      <td>Room</td>\n",
       "      <td>8.0</td>\n",
       "    </tr>\n",
       "    <tr>\n",
       "      <th>118</th>\n",
       "      <td>Interstellar</td>\n",
       "      <td>8.0</td>\n",
       "    </tr>\n",
       "    <tr>\n",
       "      <th>125</th>\n",
       "      <td>The Imitation Game</td>\n",
       "      <td>8.0</td>\n",
       "    </tr>\n",
       "    <tr>\n",
       "      <th>370</th>\n",
       "      <td>Inception</td>\n",
       "      <td>7.9</td>\n",
       "    </tr>\n",
       "    <tr>\n",
       "      <th>1191</th>\n",
       "      <td>12 Years a Slave</td>\n",
       "      <td>7.9</td>\n",
       "    </tr>\n",
       "    <tr>\n",
       "      <th>1183</th>\n",
       "      <td>The Wolf of Wall Street</td>\n",
       "      <td>7.9</td>\n",
       "    </tr>\n",
       "    <tr>\n",
       "      <th>1081</th>\n",
       "      <td>The Lord of the Rings: The Return of the King</td>\n",
       "      <td>7.9</td>\n",
       "    </tr>\n",
       "    <tr>\n",
       "      <th>872</th>\n",
       "      <td>The Pianist</td>\n",
       "      <td>7.9</td>\n",
       "    </tr>\n",
       "    <tr>\n",
       "      <th>1800</th>\n",
       "      <td>Memento</td>\n",
       "      <td>7.9</td>\n",
       "    </tr>\n",
       "    <tr>\n",
       "      <th>119</th>\n",
       "      <td>Guardians of the Galaxy</td>\n",
       "      <td>7.9</td>\n",
       "    </tr>\n",
       "    <tr>\n",
       "      <th>138</th>\n",
       "      <td>The Grand Budapest Hotel</td>\n",
       "      <td>7.9</td>\n",
       "    </tr>\n",
       "    <tr>\n",
       "      <th>128</th>\n",
       "      <td>Gone Girl</td>\n",
       "      <td>7.9</td>\n",
       "    </tr>\n",
       "    <tr>\n",
       "      <th>283</th>\n",
       "      <td>Mr. Nobody</td>\n",
       "      <td>7.8</td>\n",
       "    </tr>\n",
       "    <tr>\n",
       "      <th>1688</th>\n",
       "      <td>There Will Be Blood</td>\n",
       "      <td>7.8</td>\n",
       "    </tr>\n",
       "    <tr>\n",
       "      <th>1563</th>\n",
       "      <td>Eternal Sunshine of the Spotless Mind</td>\n",
       "      <td>7.8</td>\n",
       "    </tr>\n",
       "    <tr>\n",
       "      <th>1444</th>\n",
       "      <td>The Prestige</td>\n",
       "      <td>7.8</td>\n",
       "    </tr>\n",
       "    <tr>\n",
       "      <th>1213</th>\n",
       "      <td>Dallas Buyers Club</td>\n",
       "      <td>7.8</td>\n",
       "    </tr>\n",
       "    <tr>\n",
       "      <th>1205</th>\n",
       "      <td>Prisoners</td>\n",
       "      <td>7.8</td>\n",
       "    </tr>\n",
       "    <tr>\n",
       "      <th>124</th>\n",
       "      <td>Big Hero 6</td>\n",
       "      <td>7.8</td>\n",
       "    </tr>\n",
       "    <tr>\n",
       "      <th>1188</th>\n",
       "      <td>Her</td>\n",
       "      <td>7.8</td>\n",
       "    </tr>\n",
       "    <tr>\n",
       "      <th>316</th>\n",
       "      <td>3 Idiots</td>\n",
       "      <td>7.8</td>\n",
       "    </tr>\n",
       "    <tr>\n",
       "      <th>863</th>\n",
       "      <td>The Lord of the Rings: The Two Towers</td>\n",
       "      <td>7.8</td>\n",
       "    </tr>\n",
       "    <tr>\n",
       "      <th>155</th>\n",
       "      <td>The Theory of Everything</td>\n",
       "      <td>7.8</td>\n",
       "    </tr>\n",
       "    <tr>\n",
       "      <th>28</th>\n",
       "      <td>Spotlight</td>\n",
       "      <td>7.8</td>\n",
       "    </tr>\n",
       "    <tr>\n",
       "      <th>177</th>\n",
       "      <td>The Fault in Our Stars</td>\n",
       "      <td>7.8</td>\n",
       "    </tr>\n",
       "    <tr>\n",
       "      <th>496</th>\n",
       "      <td>The Lord of the Rings: The Fellowship of the Ring</td>\n",
       "      <td>7.8</td>\n",
       "    </tr>\n",
       "  </tbody>\n",
       "</table>\n",
       "</div>"
      ],
      "text/plain": [
       "                                         original_title  vote_average\n",
       "599                                     The Dark Knight           8.1\n",
       "9                                            Inside Out           8.0\n",
       "34                                                 Room           8.0\n",
       "118                                        Interstellar           8.0\n",
       "125                                  The Imitation Game           8.0\n",
       "370                                           Inception           7.9\n",
       "1191                                   12 Years a Slave           7.9\n",
       "1183                            The Wolf of Wall Street           7.9\n",
       "1081      The Lord of the Rings: The Return of the King           7.9\n",
       "872                                         The Pianist           7.9\n",
       "1800                                            Memento           7.9\n",
       "119                             Guardians of the Galaxy           7.9\n",
       "138                            The Grand Budapest Hotel           7.9\n",
       "128                                           Gone Girl           7.9\n",
       "283                                          Mr. Nobody           7.8\n",
       "1688                                There Will Be Blood           7.8\n",
       "1563              Eternal Sunshine of the Spotless Mind           7.8\n",
       "1444                                       The Prestige           7.8\n",
       "1213                                 Dallas Buyers Club           7.8\n",
       "1205                                          Prisoners           7.8\n",
       "124                                          Big Hero 6           7.8\n",
       "1188                                                Her           7.8\n",
       "316                                            3 Idiots           7.8\n",
       "863               The Lord of the Rings: The Two Towers           7.8\n",
       "155                            The Theory of Everything           7.8\n",
       "28                                            Spotlight           7.8\n",
       "177                              The Fault in Our Stars           7.8\n",
       "496   The Lord of the Rings: The Fellowship of the Ring           7.8"
      ]
     },
     "execution_count": 32,
     "metadata": {},
     "output_type": "execute_result"
    }
   ],
   "source": [
    "result = data.quantile(0.99)['vote_average']\n",
    "result = data[data.vote_average >= result] \\\n",
    "    [['original_title', 'vote_average']] \\\n",
    "    .sort_values(by='vote_average', ascending=False)\n",
    "\n",
    "answers['26'] = result.original_title.to_list()\n",
    "result"
   ]
  },
  {
   "cell_type": "markdown",
   "metadata": {
    "colab_type": "text",
    "id": "MdXsUXbCVqAV"
   },
   "source": [
    "# 27. Какие актеры чаще всего снимаются в одном фильме вместе?"
   ]
  },
  {
   "cell_type": "code",
   "execution_count": 37,
   "metadata": {},
   "outputs": [
    {
     "data": {
      "text/plain": [
       "(Daniel Radcliffe, Rupert Grint)       8\n",
       "(Daniel Radcliffe, Emma Watson)        8\n",
       "(Rupert Grint, Emma Watson)            7\n",
       "(Ben Stiller, Owen Wilson)             6\n",
       "(Johnny Depp, Helena Bonham Carter)    6\n",
       "dtype: int64"
      ]
     },
     "metadata": {},
     "output_type": "display_data"
    },
    {
     "name": "stdout",
     "output_type": "stream",
     "text": [
      "('Daniel Radcliffe', 'Rupert Grint')\n"
     ]
    }
   ],
   "source": [
    "df = data[['imdb_id', 'cast_list']].explode('cast_list')\n",
    "actors = [(x, y) for _, d in df.groupby('imdb_id') \\\n",
    "          for x, y in combinations(d['cast_list'], 2)]\n",
    "\n",
    "result = pd.value_counts(actors)\n",
    "\n",
    "display(result.sort_values(ascending=False).head(5))\n",
    "\n",
    "answers['27'] = result.idxmax()\n",
    "print(answers['27'])"
   ]
  },
  {
   "cell_type": "markdown",
   "metadata": {
    "colab_type": "text",
    "id": "U0nONFnGVqAX"
   },
   "source": [
    "# Submission"
   ]
  },
  {
   "cell_type": "code",
   "execution_count": 34,
   "metadata": {
    "colab": {},
    "colab_type": "code",
    "id": "IfcaRO9-VqAX",
    "outputId": "0f132912-32bb-4196-c98c-abfbc4ad5a5f"
   },
   "outputs": [
    {
     "data": {
      "text/plain": [
       "{'1': 'Pirates of the Caribbean: On Stranger Tides (tt1298650)',\n",
       " '2': 'Gods and Generals (tt0279111)',\n",
       " '3': 'Winnie the Pooh (tt1449283)',\n",
       " '4': '110',\n",
       " '5': 107,\n",
       " '6': 'Avatar (tt0499549)',\n",
       " '7': 'The Lone Ranger (tt1210819)',\n",
       " '8': 1478,\n",
       " '9': 'The Dark Knight (tt0468569)',\n",
       " '10': 'The Lone Ranger (tt1210819)',\n",
       " '11': 'Drama',\n",
       " '12': 'Drama',\n",
       " '13': 'Peter Jackson',\n",
       " '14': 'Robert Rodriguez',\n",
       " '15': 'Chris Hemsworth',\n",
       " '16': 'Matt Damon',\n",
       " '17': 'Action',\n",
       " '18': 'K-19: The Widowmaker (tt0267626)',\n",
       " '19': 2015,\n",
       " '20': 2014,\n",
       " '21': 'September',\n",
       " '22': 450,\n",
       " '23': 'Peter Jackson',\n",
       " '24': 'Four By Two Productions',\n",
       " '25': 'Midnight Picture Show',\n",
       " '26': ['The Dark Knight',\n",
       "  'Inside Out',\n",
       "  'Room',\n",
       "  'Interstellar',\n",
       "  'The Imitation Game',\n",
       "  'Inception',\n",
       "  '12 Years a Slave',\n",
       "  'The Wolf of Wall Street',\n",
       "  'The Lord of the Rings: The Return of the King',\n",
       "  'The Pianist',\n",
       "  'Memento',\n",
       "  'Guardians of the Galaxy',\n",
       "  'The Grand Budapest Hotel',\n",
       "  'Gone Girl',\n",
       "  'Mr. Nobody',\n",
       "  'There Will Be Blood',\n",
       "  'Eternal Sunshine of the Spotless Mind',\n",
       "  'The Prestige',\n",
       "  'Dallas Buyers Club',\n",
       "  'Prisoners',\n",
       "  'Big Hero 6',\n",
       "  'Her',\n",
       "  '3 Idiots',\n",
       "  'The Lord of the Rings: The Two Towers',\n",
       "  'The Theory of Everything',\n",
       "  'Spotlight',\n",
       "  'The Fault in Our Stars',\n",
       "  'The Lord of the Rings: The Fellowship of the Ring'],\n",
       " '27': ('Daniel Radcliffe', 'Rupert Grint')}"
      ]
     },
     "execution_count": 34,
     "metadata": {},
     "output_type": "execute_result"
    }
   ],
   "source": [
    "# в конце можно посмотреть свои ответы к каждому вопросу\n",
    "answers"
   ]
  },
  {
   "cell_type": "code",
   "execution_count": 35,
   "metadata": {
    "colab": {},
    "colab_type": "code",
    "id": "SiRmHPl8VqAd"
   },
   "outputs": [
    {
     "data": {
      "text/plain": [
       "27"
      ]
     },
     "execution_count": 35,
     "metadata": {},
     "output_type": "execute_result"
    }
   ],
   "source": [
    "# и убедиться что ни чего не пропустил)\n",
    "len(answers)"
   ]
  },
  {
   "cell_type": "code",
   "execution_count": null,
   "metadata": {},
   "outputs": [],
   "source": []
  }
 ],
 "metadata": {
  "colab": {
   "name": "Copy of [SF-DST] Movies IMBD v4.1 TEMPLATE.ipynb",
   "provenance": []
  },
  "kernelspec": {
   "display_name": "Python 3",
   "language": "python",
   "name": "python3"
  },
  "language_info": {
   "codemirror_mode": {
    "name": "ipython",
    "version": 3
   },
   "file_extension": ".py",
   "mimetype": "text/x-python",
   "name": "python",
   "nbconvert_exporter": "python",
   "pygments_lexer": "ipython3",
   "version": "3.8.3"
  }
 },
 "nbformat": 4,
 "nbformat_minor": 1
}
